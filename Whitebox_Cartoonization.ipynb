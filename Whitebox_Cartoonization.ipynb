{
  "nbformat": 4,
  "nbformat_minor": 0,
  "metadata": {
    "colab": {
      "name": "Whitebox Cartoonization.ipynb",
      "provenance": [],
      "include_colab_link": true
    },
    "kernelspec": {
      "name": "python3",
      "display_name": "Python 3"
    },
    "language_info": {
      "name": "python"
    },
    "accelerator": "GPU"
  },
  "cells": [
    {
      "cell_type": "markdown",
      "metadata": {
        "id": "view-in-github",
        "colab_type": "text"
      },
      "source": [
        "<a href=\"https://colab.research.google.com/github/muhammad-mobeen/White-Box-Cartoonization/blob/main/Whitebox_Cartoonization.ipynb\" target=\"_parent\"><img src=\"https://colab.research.google.com/assets/colab-badge.svg\" alt=\"Open In Colab\"/></a>"
      ]
    },
    {
      "cell_type": "markdown",
      "metadata": {
        "id": "Ks4B3-RSlSXU"
      },
      "source": [
        "##**Change Directory for Cloning**\n",
        "\n",
        "*Remember to first mount the drive*"
      ]
    },
    {
      "cell_type": "code",
      "metadata": {
        "id": "Zw1gKbUW6388",
        "outputId": "accea9de-2ced-4dab-e724-f773b409a768",
        "colab": {
          "base_uri": "https://localhost:8080/"
        }
      },
      "source": [
        "from google.colab import drive\n",
        "from google.colab import files\n",
        "import os\n",
        "drive.mount('/content/drive')"
      ],
      "execution_count": 1,
      "outputs": [
        {
          "output_type": "stream",
          "name": "stdout",
          "text": [
            "Mounted at /content/drive\n"
          ]
        }
      ]
    },
    {
      "cell_type": "code",
      "metadata": {
        "id": "UP6l-k05jBRh",
        "outputId": "33afeacc-3eab-4803-8485-ce80251b43c3",
        "colab": {
          "base_uri": "https://localhost:8080/"
        }
      },
      "source": [
        "cd /content/drive/MyDrive"
      ],
      "execution_count": 10,
      "outputs": [
        {
          "output_type": "stream",
          "name": "stdout",
          "text": [
            "/content/drive/MyDrive\n"
          ]
        }
      ]
    },
    {
      "cell_type": "markdown",
      "metadata": {
        "id": "HBNRN0DvOPlG"
      },
      "source": [
        "## **Clone repository**"
      ]
    },
    {
      "cell_type": "code",
      "metadata": {
        "id": "CQ8ODZ4yFgSF",
        "outputId": "3734dbcc-6dc4-491b-b840-17c5269ffdb6",
        "colab": {
          "base_uri": "https://localhost:8080/"
        }
      },
      "source": [
        "!git clone https://github.com/muhammad-mobeen/White-box-Cartoonization-1.git"
      ],
      "execution_count": 3,
      "outputs": [
        {
          "output_type": "stream",
          "name": "stdout",
          "text": [
            "Cloning into 'White-box-Cartoonization-1'...\n",
            "remote: Enumerating objects: 206, done.\u001b[K\n",
            "remote: Counting objects: 100% (7/7), done.\u001b[K\n",
            "remote: Compressing objects: 100% (4/4), done.\u001b[K\n",
            "remote: Total 206 (delta 2), reused 6 (delta 2), pack-reused 199\u001b[K\n",
            "Receiving objects: 100% (206/206), 44.60 MiB | 14.34 MiB/s, done.\n",
            "Resolving deltas: 100% (76/76), done.\n"
          ]
        }
      ]
    },
    {
      "cell_type": "markdown",
      "metadata": {
        "id": "5faOXDeROaD8"
      },
      "source": [
        "## **Install Dependencies:-**"
      ]
    },
    {
      "cell_type": "code",
      "metadata": {
        "id": "DJ3_KbGKGkVz"
      },
      "source": [
        "!pip install tensorflow-gpu==1.15.0"
      ],
      "execution_count": null,
      "outputs": []
    },
    {
      "cell_type": "code",
      "metadata": {
        "id": "jhKWCu61GkbB"
      },
      "source": [
        "!pip install scikit-image==0.14.5"
      ],
      "execution_count": null,
      "outputs": []
    },
    {
      "cell_type": "code",
      "metadata": {
        "id": "iKF6f4XjGkc5"
      },
      "source": [
        "!pip install ffmpeg-python"
      ],
      "execution_count": null,
      "outputs": []
    },
    {
      "cell_type": "markdown",
      "metadata": {
        "id": "vRBaJHISOtT1"
      },
      "source": [
        "## **Change Directory**"
      ]
    },
    {
      "cell_type": "code",
      "metadata": {
        "id": "vn1weWp5Gkhw",
        "outputId": "ef7f8fc9-1fab-4dcc-d292-c2a1dfbbf152",
        "colab": {
          "base_uri": "https://localhost:8080/"
        }
      },
      "source": [
        "cd /content/drive/MyDrive/White-box-Cartoonization-1/test_code"
      ],
      "execution_count": 8,
      "outputs": [
        {
          "output_type": "stream",
          "name": "stdout",
          "text": [
            "/content/drive/MyDrive/White-box-Cartoonization-1/test_code\n"
          ]
        }
      ]
    },
    {
      "cell_type": "markdown",
      "metadata": {
        "id": "XLzCsCBSTv0O"
      },
      "source": [
        "##**Convert Video Into Image Sequences**\n",
        "Copy the code below and replace stars with the name of your video\n",
        "\n",
        "---\n",
        "\n",
        "\n",
        "`!ffmpeg -i ****.mp4 -r 30 test_images/$****%03d.bmp`"
      ]
    },
    {
      "cell_type": "code",
      "metadata": {
        "id": "Cqrc8d04Gkph"
      },
      "source": [
        "!ffmpeg -i T.mp4 -r 30 test_images/$T%03d.bmp"
      ],
      "execution_count": null,
      "outputs": []
    },
    {
      "cell_type": "markdown",
      "metadata": {
        "id": "XnDCtaPnVVKl"
      },
      "source": [
        "## **Initiate Cartoonization**"
      ]
    },
    {
      "cell_type": "code",
      "metadata": {
        "id": "cRMExAcFGk3q"
      },
      "source": [
        "!python cartoonize.py"
      ],
      "execution_count": null,
      "outputs": []
    },
    {
      "cell_type": "markdown",
      "metadata": {
        "id": "ZeNY9TTXVe9E"
      },
      "source": [
        "##**Convert Cartoonized Image Sequence Into Video Format Again**\n",
        "\n",
        "---\n",
        "`!ffmpeg -r 30 -i \"destination$****%3d.bmp\" -c:v libx264 -pix_fmt yuv420p out.mp4`"
      ]
    },
    {
      "cell_type": "code",
      "metadata": {
        "id": "a4RysB3eJr_Z"
      },
      "source": [
        "!ffmpeg -r 30 -i \"/content/drive/MyDrive/White-box-Cartoonization-1/test_code/cartoonized_images/$T%3d.bmp\" -c:v libx264 -pix_fmt yuv420p out.mp4"
      ],
      "execution_count": null,
      "outputs": []
    },
    {
      "cell_type": "markdown",
      "metadata": {
        "id": "F2yKQh7_V_IA"
      },
      "source": [
        "## **Check the `/test_code` folder for `out.mp4`**"
      ]
    },
    {
      "cell_type": "code",
      "metadata": {
        "id": "AQ2-16hqe7Ry"
      },
      "source": [
        "files.download(\"/content/drive/MyDrive/White-box-Cartoonization-1/test_code/T.mp4\")"
      ],
      "execution_count": null,
      "outputs": []
    },
    {
      "cell_type": "markdown",
      "metadata": {
        "id": "92MDnQ5sayOj"
      },
      "source": [
        "## **Move the Clone to Trash After Usage to Save Space**\n",
        "***Don't forget to delete the clone from google drive trash. It requires manual action.***"
      ]
    },
    {
      "cell_type": "code",
      "metadata": {
        "id": "TCUIWXRTZqkd",
        "outputId": "acf80782-1003-441a-8933-cb7fd08752d6",
        "colab": {
          "base_uri": "https://localhost:8080/"
        }
      },
      "source": [
        "!cd /content/drive/MyDrive\n",
        "delete_filepath = '/content/drive/MyDrive/White-box-Cartoonization-1'\n",
        "!zip -r /content/drive/MyDrive/White-box-Cartoonization-1.zip /content/drive/MyDrive/White-box-Cartoonization-1\n",
        "delete_filepath += '.zip'\n",
        "print(delete_filepath)\n",
        "os.remove(delete_filepath) #deleting the cloned repo from google drive will move the file to bin instead"
      ],
      "execution_count": 18,
      "outputs": [
        {
          "output_type": "stream",
          "name": "stdout",
          "text": [
            "  adding: content/drive/MyDrive/White-box-Cartoonization-1/ (stored 0%)\n",
            "  adding: content/drive/MyDrive/White-box-Cartoonization-1/.git/ (stored 0%)\n",
            "  adding: content/drive/MyDrive/White-box-Cartoonization-1/.git/branches/ (stored 0%)\n",
            "  adding: content/drive/MyDrive/White-box-Cartoonization-1/.git/hooks/ (stored 0%)\n",
            "  adding: content/drive/MyDrive/White-box-Cartoonization-1/.git/hooks/pre-rebase.sample (deflated 59%)\n",
            "  adding: content/drive/MyDrive/White-box-Cartoonization-1/.git/hooks/pre-receive.sample (deflated 40%)\n",
            "  adding: content/drive/MyDrive/White-box-Cartoonization-1/.git/hooks/commit-msg.sample (deflated 44%)\n",
            "  adding: content/drive/MyDrive/White-box-Cartoonization-1/.git/hooks/applypatch-msg.sample (deflated 42%)\n",
            "  adding: content/drive/MyDrive/White-box-Cartoonization-1/.git/hooks/update.sample (deflated 68%)\n",
            "  adding: content/drive/MyDrive/White-box-Cartoonization-1/.git/hooks/fsmonitor-watchman.sample (deflated 53%)\n",
            "  adding: content/drive/MyDrive/White-box-Cartoonization-1/.git/hooks/pre-push.sample (deflated 50%)\n",
            "  adding: content/drive/MyDrive/White-box-Cartoonization-1/.git/hooks/post-update.sample (deflated 27%)\n",
            "  adding: content/drive/MyDrive/White-box-Cartoonization-1/.git/hooks/pre-applypatch.sample (deflated 38%)\n",
            "  adding: content/drive/MyDrive/White-box-Cartoonization-1/.git/hooks/pre-commit.sample (deflated 43%)\n",
            "  adding: content/drive/MyDrive/White-box-Cartoonization-1/.git/hooks/prepare-commit-msg.sample (deflated 50%)\n",
            "  adding: content/drive/MyDrive/White-box-Cartoonization-1/.git/info/ (stored 0%)\n",
            "  adding: content/drive/MyDrive/White-box-Cartoonization-1/.git/info/exclude (deflated 28%)\n",
            "  adding: content/drive/MyDrive/White-box-Cartoonization-1/.git/description (deflated 14%)\n",
            "  adding: content/drive/MyDrive/White-box-Cartoonization-1/.git/refs/ (stored 0%)\n",
            "  adding: content/drive/MyDrive/White-box-Cartoonization-1/.git/refs/heads/ (stored 0%)\n",
            "  adding: content/drive/MyDrive/White-box-Cartoonization-1/.git/refs/heads/master (stored 0%)\n",
            "  adding: content/drive/MyDrive/White-box-Cartoonization-1/.git/refs/tags/ (stored 0%)\n",
            "  adding: content/drive/MyDrive/White-box-Cartoonization-1/.git/refs/remotes/ (stored 0%)\n",
            "  adding: content/drive/MyDrive/White-box-Cartoonization-1/.git/refs/remotes/origin/ (stored 0%)\n",
            "  adding: content/drive/MyDrive/White-box-Cartoonization-1/.git/refs/remotes/origin/HEAD (stored 0%)\n",
            "  adding: content/drive/MyDrive/White-box-Cartoonization-1/.git/config (deflated 32%)\n",
            "  adding: content/drive/MyDrive/White-box-Cartoonization-1/.git/objects/ (stored 0%)\n",
            "  adding: content/drive/MyDrive/White-box-Cartoonization-1/.git/objects/pack/ (stored 0%)\n",
            "  adding: content/drive/MyDrive/White-box-Cartoonization-1/.git/objects/pack/pack-587dd772639509b311f4345ec68a49647b968bf9.pack (deflated 0%)\n",
            "  adding: content/drive/MyDrive/White-box-Cartoonization-1/.git/objects/pack/pack-587dd772639509b311f4345ec68a49647b968bf9.idx (deflated 11%)\n",
            "  adding: content/drive/MyDrive/White-box-Cartoonization-1/.git/objects/info/ (stored 0%)\n",
            "  adding: content/drive/MyDrive/White-box-Cartoonization-1/.git/packed-refs (deflated 11%)\n",
            "  adding: content/drive/MyDrive/White-box-Cartoonization-1/.git/logs/ (stored 0%)\n",
            "  adding: content/drive/MyDrive/White-box-Cartoonization-1/.git/logs/refs/ (stored 0%)\n",
            "  adding: content/drive/MyDrive/White-box-Cartoonization-1/.git/logs/refs/remotes/ (stored 0%)\n",
            "  adding: content/drive/MyDrive/White-box-Cartoonization-1/.git/logs/refs/remotes/origin/ (stored 0%)\n",
            "  adding: content/drive/MyDrive/White-box-Cartoonization-1/.git/logs/refs/remotes/origin/HEAD (deflated 27%)\n",
            "  adding: content/drive/MyDrive/White-box-Cartoonization-1/.git/logs/refs/heads/ (stored 0%)\n",
            "  adding: content/drive/MyDrive/White-box-Cartoonization-1/.git/logs/refs/heads/master (deflated 27%)\n",
            "  adding: content/drive/MyDrive/White-box-Cartoonization-1/.git/logs/HEAD (deflated 27%)\n",
            "  adding: content/drive/MyDrive/White-box-Cartoonization-1/.git/HEAD (stored 0%)\n",
            "  adding: content/drive/MyDrive/White-box-Cartoonization-1/.git/index (deflated 51%)\n",
            "  adding: content/drive/MyDrive/White-box-Cartoonization-1/README.md (deflated 49%)\n",
            "  adding: content/drive/MyDrive/White-box-Cartoonization-1/images/ (stored 0%)\n",
            "  adding: content/drive/MyDrive/White-box-Cartoonization-1/images/city1.jpg (deflated 0%)\n",
            "  adding: content/drive/MyDrive/White-box-Cartoonization-1/images/city2.jpg (deflated 0%)\n",
            "  adding: content/drive/MyDrive/White-box-Cartoonization-1/images/folder.jpg (deflated 2%)\n",
            "  adding: content/drive/MyDrive/White-box-Cartoonization-1/images/food.jpg (deflated 1%)\n",
            "  adding: content/drive/MyDrive/White-box-Cartoonization-1/images/home.jpg (deflated 1%)\n",
            "  adding: content/drive/MyDrive/White-box-Cartoonization-1/images/method.jpg (deflated 9%)\n",
            "  adding: content/drive/MyDrive/White-box-Cartoonization-1/images/person1.jpg (deflated 1%)\n",
            "  adding: content/drive/MyDrive/White-box-Cartoonization-1/images/person2.jpg (deflated 1%)\n",
            "  adding: content/drive/MyDrive/White-box-Cartoonization-1/images/use_cases.jpg (deflated 1%)\n",
            "  adding: content/drive/MyDrive/White-box-Cartoonization-1/index.html (deflated 54%)\n",
            "  adding: content/drive/MyDrive/White-box-Cartoonization-1/index_files/ (stored 0%)\n",
            "  adding: content/drive/MyDrive/White-box-Cartoonization-1/index_files/pixl-bk.css (deflated 67%)\n",
            "  adding: content/drive/MyDrive/White-box-Cartoonization-1/index_files/pixl-fonts.css (deflated 19%)\n",
            "  adding: content/drive/MyDrive/White-box-Cartoonization-1/paper/ (stored 0%)\n",
            "  adding: content/drive/MyDrive/White-box-Cartoonization-1/paper/06791-supp.pdf (deflated 0%)\n",
            "  adding: content/drive/MyDrive/White-box-Cartoonization-1/paper/06791.pdf (deflated 1%)\n",
            "  adding: content/drive/MyDrive/White-box-Cartoonization-1/paper/shinjuku.jpg (deflated 0%)\n",
            "  adding: content/drive/MyDrive/White-box-Cartoonization-1/paper/white_box_cartoon_acm_style.pdf (deflated 1%)\n",
            "  adding: content/drive/MyDrive/White-box-Cartoonization-1/test_code/ (stored 0%)\n",
            "  adding: content/drive/MyDrive/White-box-Cartoonization-1/test_code/cartoonize.py (deflated 59%)\n",
            "  adding: content/drive/MyDrive/White-box-Cartoonization-1/test_code/guided_filter.py (deflated 64%)\n",
            "  adding: content/drive/MyDrive/White-box-Cartoonization-1/test_code/network.py (deflated 75%)\n",
            "  adding: content/drive/MyDrive/White-box-Cartoonization-1/test_code/saved_models/ (stored 0%)\n",
            "  adding: content/drive/MyDrive/White-box-Cartoonization-1/test_code/saved_models/checkpoint (deflated 58%)\n",
            "  adding: content/drive/MyDrive/White-box-Cartoonization-1/test_code/saved_models/model-33999.data-00000-of-00001 (deflated 7%)\n",
            "  adding: content/drive/MyDrive/White-box-Cartoonization-1/test_code/saved_models/model-33999.index (deflated 57%)\n",
            "  adding: content/drive/MyDrive/White-box-Cartoonization-1/test_code/test_images/ (stored 0%)\n",
            "  adding: content/drive/MyDrive/White-box-Cartoonization-1/test_code/test_images/git.ignore (stored 0%)\n",
            "  adding: content/drive/MyDrive/White-box-Cartoonization-1/train_code/ (stored 0%)\n",
            "  adding: content/drive/MyDrive/White-box-Cartoonization-1/train_code/guided_filter.py (deflated 53%)\n",
            "  adding: content/drive/MyDrive/White-box-Cartoonization-1/train_code/layers.py (deflated 64%)\n",
            "  adding: content/drive/MyDrive/White-box-Cartoonization-1/train_code/loss.py (deflated 71%)\n",
            "  adding: content/drive/MyDrive/White-box-Cartoonization-1/train_code/network.py (deflated 83%)\n",
            "  adding: content/drive/MyDrive/White-box-Cartoonization-1/train_code/pretrain.py (deflated 69%)\n",
            "  adding: content/drive/MyDrive/White-box-Cartoonization-1/train_code/selective_search/ (stored 0%)\n",
            "  adding: content/drive/MyDrive/White-box-Cartoonization-1/train_code/selective_search/__init__.py (stored 0%)\n",
            "  adding: content/drive/MyDrive/White-box-Cartoonization-1/train_code/selective_search/adaptive_color.py (deflated 68%)\n",
            "  adding: content/drive/MyDrive/White-box-Cartoonization-1/train_code/selective_search/batch_ss.py (deflated 56%)\n",
            "  adding: content/drive/MyDrive/White-box-Cartoonization-1/train_code/selective_search/core.py (deflated 63%)\n",
            "  adding: content/drive/MyDrive/White-box-Cartoonization-1/train_code/selective_search/measure.py (deflated 68%)\n",
            "  adding: content/drive/MyDrive/White-box-Cartoonization-1/train_code/selective_search/structure.py (deflated 72%)\n",
            "  adding: content/drive/MyDrive/White-box-Cartoonization-1/train_code/selective_search/util.py (deflated 63%)\n",
            "  adding: content/drive/MyDrive/White-box-Cartoonization-1/train_code/train.py (deflated 75%)\n",
            "  adding: content/drive/MyDrive/White-box-Cartoonization-1/train_code/utils.py (deflated 68%)\n",
            "/content/drive/MyDrive/White-box-Cartoonization-1.zip\n"
          ]
        }
      ]
    },
    {
      "cell_type": "markdown",
      "metadata": {
        "id": "9rqWWrLxbbEc"
      },
      "source": [
        "##**Unmount Google Drive**\n"
      ]
    },
    {
      "cell_type": "code",
      "metadata": {
        "id": "JgYJ9InPaB7S"
      },
      "source": [
        "drive.flush_and_unmount()"
      ],
      "execution_count": null,
      "outputs": []
    }
  ]
}