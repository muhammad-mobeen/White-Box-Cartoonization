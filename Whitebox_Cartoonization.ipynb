{
  "nbformat": 4,
  "nbformat_minor": 0,
  "metadata": {
    "colab": {
      "name": "Whitebox Cartoonization.ipynb",
      "provenance": [],
      "include_colab_link": true
    },
    "kernelspec": {
      "name": "python3",
      "display_name": "Python 3"
    },
    "language_info": {
      "name": "python"
    },
    "accelerator": "GPU"
  },
  "cells": [
    {
      "cell_type": "markdown",
      "metadata": {
        "id": "view-in-github",
        "colab_type": "text"
      },
      "source": [
        "<a href=\"https://colab.research.google.com/github/muhammad-mobeen/White-Box-Cartoonization/blob/main/Whitebox_Cartoonization.ipynb\" target=\"_parent\"><img src=\"https://colab.research.google.com/assets/colab-badge.svg\" alt=\"Open In Colab\"/></a>"
      ]
    },
    {
      "cell_type": "markdown",
      "metadata": {
        "id": "Ks4B3-RSlSXU"
      },
      "source": [
        "##**Change Directory for Cloning**\n",
        "\n",
        "*Remember to first mount the drive*"
      ]
    },
    {
      "cell_type": "code",
      "metadata": {
        "id": "Zw1gKbUW6388"
      },
      "source": [
        "from google.colab import drive\n",
        "drive.mount('/content/drive')"
      ],
      "execution_count": null,
      "outputs": []
    },
    {
      "cell_type": "code",
      "metadata": {
        "id": "UP6l-k05jBRh"
      },
      "source": [
        "cd /content/drive/MyDrive"
      ],
      "execution_count": null,
      "outputs": []
    },
    {
      "cell_type": "markdown",
      "metadata": {
        "id": "HBNRN0DvOPlG"
      },
      "source": [
        "## **Clone repository**"
      ]
    },
    {
      "cell_type": "code",
      "metadata": {
        "id": "CQ8ODZ4yFgSF"
      },
      "source": [
        "!git clone https://github.com/muhammad-mobeen/White-box-Cartoonization-1.git"
      ],
      "execution_count": null,
      "outputs": []
    },
    {
      "cell_type": "markdown",
      "metadata": {
        "id": "5faOXDeROaD8"
      },
      "source": [
        "## **Install Dependencies:-**"
      ]
    },
    {
      "cell_type": "code",
      "metadata": {
        "id": "DJ3_KbGKGkVz"
      },
      "source": [
        "!pip install tensorflow-gpu==1.15.0"
      ],
      "execution_count": null,
      "outputs": []
    },
    {
      "cell_type": "code",
      "metadata": {
        "id": "jhKWCu61GkbB"
      },
      "source": [
        "!pip install scikit-image==0.14.5"
      ],
      "execution_count": null,
      "outputs": []
    },
    {
      "cell_type": "code",
      "metadata": {
        "id": "iKF6f4XjGkc5"
      },
      "source": [
        "!pip install ffmpeg-python"
      ],
      "execution_count": null,
      "outputs": []
    },
    {
      "cell_type": "markdown",
      "metadata": {
        "id": "vRBaJHISOtT1"
      },
      "source": [
        "## **Change Directory**"
      ]
    },
    {
      "cell_type": "code",
      "metadata": {
        "id": "vn1weWp5Gkhw"
      },
      "source": [
        "cd /content/drive/MyDrive/White-box-Cartoonization/test_code"
      ],
      "execution_count": null,
      "outputs": []
    },
    {
      "cell_type": "markdown",
      "metadata": {
        "id": "XLzCsCBSTv0O"
      },
      "source": [
        "##**Convert Video Into Image Sequences**\n",
        "Copy the code below and replace stars with the name of your video\n",
        "\n",
        "---\n",
        "\n",
        "\n",
        "`!ffmpeg -i ****.mp4 -r 30 test_images/$****%03d.bmp`"
      ]
    },
    {
      "cell_type": "code",
      "metadata": {
        "id": "Cqrc8d04Gkph"
      },
      "source": [
        "!ffmpeg -i T.mp4 -r 30 test_images/$T%03d.bmp"
      ],
      "execution_count": null,
      "outputs": []
    },
    {
      "cell_type": "markdown",
      "metadata": {
        "id": "XnDCtaPnVVKl"
      },
      "source": [
        "## **Initiate Cartoonization**"
      ]
    },
    {
      "cell_type": "code",
      "metadata": {
        "id": "cRMExAcFGk3q"
      },
      "source": [
        "!python cartoonize.py"
      ],
      "execution_count": null,
      "outputs": []
    },
    {
      "cell_type": "markdown",
      "metadata": {
        "id": "ZeNY9TTXVe9E"
      },
      "source": [
        "##**Convert Cartoonized Image Sequence Into Video Format Again**\n",
        "\n",
        "---\n",
        "`!ffmpeg -r 30 -i \"destination$****%3d.bmp\" -c:v libx264 -pix_fmt yuv420p out.mp4`"
      ]
    },
    {
      "cell_type": "code",
      "metadata": {
        "id": "a4RysB3eJr_Z"
      },
      "source": [
        "!ffmpeg -r 30 -i \"/content/drive/MyDrive/White-box-Cartoonization/test_code/cartoonized_images/$T%3d.bmp\" -c:v libx264 -pix_fmt yuv420p out.mp4"
      ],
      "execution_count": null,
      "outputs": []
    },
    {
      "cell_type": "markdown",
      "metadata": {
        "id": "F2yKQh7_V_IA"
      },
      "source": [
        "## **Check the `/test_code` folder for `out.mp4`**"
      ]
    }
  ]
}
